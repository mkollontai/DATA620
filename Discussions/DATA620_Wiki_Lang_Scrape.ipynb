{
 "cells": [
  {
   "cell_type": "markdown",
   "metadata": {},
   "source": [
    "### CUNY Data 620 - Web Analytics, Summer 2020\n",
    "Attempt to Generate Bipartite network from Wikipedia page"
   ]
  },
  {
   "cell_type": "markdown",
   "metadata": {},
   "source": [
    "### Data Set\n",
    "* **Source**: [Wiki page for official languages by country/territory](https://en.wikipedia.org/wiki/List_of_official_languages_by_country_and_territory)\n",
    "* **Format**: Wikipedia table scraped for information\n",
    "* **Description**: A table of countries and each language associated with that country whther in an official capacity or simly widely spoken. \n",
    "* **Nodes**: 207 countries, 303 languages\n",
    "* **Edges**: 665 pairings\n"
   ]
  },
  {
   "cell_type": "markdown",
   "metadata": {},
   "source": [
    "### Importing Packages"
   ]
  },
  {
   "cell_type": "code",
   "execution_count": 1,
   "metadata": {},
   "outputs": [],
   "source": [
    "import requests\n",
    "import re\n",
    "import pandas as pd\n",
    "from bs4 import BeautifulSoup\n",
    "import networkx as nx\n",
    "from networkx.algorithms import bipartite"
   ]
  },
  {
   "cell_type": "markdown",
   "metadata": {},
   "source": [
    "### Scraping Data"
   ]
  },
  {
   "cell_type": "code",
   "execution_count": 2,
   "metadata": {},
   "outputs": [],
   "source": [
    "website_url = requests.get(\"https://en.wikipedia.org/wiki/List_of_official_languages_by_country_and_territory\").text\n",
    "\n",
    "soup = BeautifulSoup(website_url, 'lxml')\n",
    "#print(soup.prettify())\n",
    "lang_table = soup.find('table',{'class':'wikitable sortable'})"
   ]
  },
  {
   "cell_type": "markdown",
   "metadata": {},
   "source": [
    "### Custom Functions"
   ]
  },
  {
   "cell_type": "code",
   "execution_count": 3,
   "metadata": {},
   "outputs": [],
   "source": [
    "### Identify the name of the item within the XML line in question ###\n",
    "def find_names(x):\n",
    "    pattern = \">(\\S+)</a\"\n",
    "    word = str(x)\n",
    "    start = [m.start() for m in re.finditer(pattern, word)]\n",
    "    end = [m.end() for m in re.finditer(pattern, word)]\n",
    "    result = ''\n",
    "    for i in range(0,len(start)):\n",
    "        temp = x[(start[i]+1):(end[i]-3)]\n",
    "        \n",
    "        result = result + (temp)\n",
    "    return (result)\n",
    "\n",
    "### Determine if there are bullets within the table cell and pull languages for each ###\n",
    "### If not, simply add the language to the list, ignoring \"names\" shorter than 3 characters as they are likely erroneous ###\n",
    "def lists_of_langs(td,col,typ,langs):\n",
    "    if str(td).find(\"<ul>\") > 0:\n",
    "        lis = td.findAll('li')\n",
    "        for li in lis:\n",
    "            lang = li.get_text()\n",
    "            add_lang(country,lang,typ,langs)\n",
    "    else:\n",
    "        lang = td.get_text()\n",
    "        if len(lang)>3:\n",
    "            add_lang(country,lang,typ,langs)\n",
    "    \n",
    "### Add a row to the language dataframe for the country, language and language type supplied ###\n",
    "def add_lang(count,lang,typ,lis):\n",
    "    lis.append([count, lang, typ])\n",
    "    \n",
    "### Remove footnotes, parentheses and trailing spaces from text ###\n",
    "def clean_name(x):\n",
    "    if x.endswith(\"]\"):\n",
    "        x = re.sub(r'\\[.*\\]', '', x)\n",
    "    start = [m.start() for m in re.finditer(\"\\(\", x)]\n",
    "    if len(start) > 0:\n",
    "        x = x[:start[0]]\n",
    "    if x.endswith(\"%\"):\n",
    "        x = re.sub(r'\\d+\\%', '', x)\n",
    "    return x.strip()\n",
    "    "
   ]
  },
  {
   "cell_type": "markdown",
   "metadata": {},
   "source": [
    "Create an empty list and run through each 'td' of the XML code. Each 'td' coincides with a cell in the table, so we can predict which column each one is in and determine the type of language found."
   ]
  },
  {
   "cell_type": "code",
   "execution_count": 4,
   "metadata": {},
   "outputs": [],
   "source": [
    "langs = []\n",
    "trs = lang_table.findAll('tr')\n",
    "counter = 1\n",
    "for tr in trs:\n",
    "    tds = tr.findAll('td')\n",
    "    col = 0\n",
    "    for td in tds:\n",
    "        if col == 0:\n",
    "            country = td.get_text()\n",
    "            #country = find_names(str(td))\n",
    "        elif col == 1:\n",
    "            typ = \"Official\"\n",
    "            lists_of_langs(td,col,typ,langs)\n",
    "        elif col == 2:\n",
    "            typ = \"Regional\"\n",
    "            lists_of_langs(td,col,typ,langs)\n",
    "        elif col == 3:\n",
    "            typ = \"Minority\"\n",
    "            lists_of_langs(td,col,typ,langs)\n",
    "        elif col == 4:\n",
    "            typ = \"National\"\n",
    "            lists_of_langs(td,col,typ,langs)\n",
    "        elif col == 1:\n",
    "            typ = \"Widely Spoken\"\n",
    "            lists_of_langs(td,col,typ,langs)\n",
    "        col += 1\n",
    "    counter += 1\n",
    "    "
   ]
  },
  {
   "cell_type": "markdown",
   "metadata": {},
   "source": [
    "Convert the list into a pandas dataframe, name the columns and clean up each one. "
   ]
  },
  {
   "cell_type": "code",
   "execution_count": 5,
   "metadata": {},
   "outputs": [
    {
     "data": {
      "text/html": [
       "<div>\n",
       "<style scoped>\n",
       "    .dataframe tbody tr th:only-of-type {\n",
       "        vertical-align: middle;\n",
       "    }\n",
       "\n",
       "    .dataframe tbody tr th {\n",
       "        vertical-align: top;\n",
       "    }\n",
       "\n",
       "    .dataframe thead th {\n",
       "        text-align: right;\n",
       "    }\n",
       "</style>\n",
       "<table border=\"1\" class=\"dataframe\">\n",
       "  <thead>\n",
       "    <tr style=\"text-align: right;\">\n",
       "      <th></th>\n",
       "      <th>Country</th>\n",
       "      <th>Language</th>\n",
       "      <th>Type</th>\n",
       "    </tr>\n",
       "  </thead>\n",
       "  <tbody>\n",
       "    <tr>\n",
       "      <th>0</th>\n",
       "      <td>Abkhazia</td>\n",
       "      <td>Abkhaz</td>\n",
       "      <td>Official</td>\n",
       "    </tr>\n",
       "    <tr>\n",
       "      <th>1</th>\n",
       "      <td>Abkhazia</td>\n",
       "      <td>Russian</td>\n",
       "      <td>Official</td>\n",
       "    </tr>\n",
       "    <tr>\n",
       "      <th>2</th>\n",
       "      <td>Abkhazia</td>\n",
       "      <td>Georgian</td>\n",
       "      <td>Minority</td>\n",
       "    </tr>\n",
       "    <tr>\n",
       "      <th>3</th>\n",
       "      <td>Abkhazia</td>\n",
       "      <td>Abkhaz</td>\n",
       "      <td>National</td>\n",
       "    </tr>\n",
       "    <tr>\n",
       "      <th>4</th>\n",
       "      <td>Afghanistan</td>\n",
       "      <td>Pashto</td>\n",
       "      <td>Official</td>\n",
       "    </tr>\n",
       "    <tr>\n",
       "      <th>...</th>\n",
       "      <td>...</td>\n",
       "      <td>...</td>\n",
       "      <td>...</td>\n",
       "    </tr>\n",
       "    <tr>\n",
       "      <th>660</th>\n",
       "      <td>Zimbabwe</td>\n",
       "      <td>Sotho</td>\n",
       "      <td>Official</td>\n",
       "    </tr>\n",
       "    <tr>\n",
       "      <th>661</th>\n",
       "      <td>Zimbabwe</td>\n",
       "      <td>Tonga</td>\n",
       "      <td>Official</td>\n",
       "    </tr>\n",
       "    <tr>\n",
       "      <th>662</th>\n",
       "      <td>Zimbabwe</td>\n",
       "      <td>Tswana</td>\n",
       "      <td>Official</td>\n",
       "    </tr>\n",
       "    <tr>\n",
       "      <th>663</th>\n",
       "      <td>Zimbabwe</td>\n",
       "      <td>Venda</td>\n",
       "      <td>Official</td>\n",
       "    </tr>\n",
       "    <tr>\n",
       "      <th>664</th>\n",
       "      <td>Zimbabwe</td>\n",
       "      <td>Xhosa</td>\n",
       "      <td>Official</td>\n",
       "    </tr>\n",
       "  </tbody>\n",
       "</table>\n",
       "<p>665 rows × 3 columns</p>\n",
       "</div>"
      ],
      "text/plain": [
       "         Country  Language      Type\n",
       "0       Abkhazia    Abkhaz  Official\n",
       "1       Abkhazia   Russian  Official\n",
       "2       Abkhazia  Georgian  Minority\n",
       "3       Abkhazia    Abkhaz  National\n",
       "4    Afghanistan    Pashto  Official\n",
       "..           ...       ...       ...\n",
       "660     Zimbabwe     Sotho  Official\n",
       "661     Zimbabwe     Tonga  Official\n",
       "662     Zimbabwe    Tswana  Official\n",
       "663     Zimbabwe     Venda  Official\n",
       "664     Zimbabwe     Xhosa  Official\n",
       "\n",
       "[665 rows x 3 columns]"
      ]
     },
     "execution_count": 5,
     "metadata": {},
     "output_type": "execute_result"
    }
   ],
   "source": [
    "col_names = ['Country','Language','Type']\n",
    "langs_df = pd.DataFrame(langs, columns = col_names)\n",
    "Language = set(langs_df[\"Language\"])\n",
    "langs_df['Country'] = langs_df['Country'].map(clean_name)\n",
    "langs_df['Country'] = langs_df['Country'].map(clean_name)\n",
    "\n",
    "langs_df['Language'] = langs_df['Language'].map(clean_name)\n",
    "langs_df"
   ]
  },
  {
   "cell_type": "markdown",
   "metadata": {},
   "source": [
    "Assign weights to each language based on the type. "
   ]
  },
  {
   "cell_type": "code",
   "execution_count": 7,
   "metadata": {},
   "outputs": [],
   "source": [
    "### Define an edge weight that will be associated with each language type\n",
    "def type_weight(row):\n",
    "    if row['Type'] == \"Official\":\n",
    "        return 30\n",
    "    elif row['Type'] == \"Regional\":\n",
    "        return 25\n",
    "    elif row['Type'] == \"Minority\":\n",
    "        return 20\n",
    "    elif row['Type'] == \"National\":\n",
    "        return 15\n",
    "    elif row['Type'] == \"Widely Spoken\":\n",
    "        return 10"
   ]
  },
  {
   "cell_type": "code",
   "execution_count": 8,
   "metadata": {},
   "outputs": [
    {
     "data": {
      "text/html": [
       "<div>\n",
       "<style scoped>\n",
       "    .dataframe tbody tr th:only-of-type {\n",
       "        vertical-align: middle;\n",
       "    }\n",
       "\n",
       "    .dataframe tbody tr th {\n",
       "        vertical-align: top;\n",
       "    }\n",
       "\n",
       "    .dataframe thead th {\n",
       "        text-align: right;\n",
       "    }\n",
       "</style>\n",
       "<table border=\"1\" class=\"dataframe\">\n",
       "  <thead>\n",
       "    <tr style=\"text-align: right;\">\n",
       "      <th></th>\n",
       "      <th>Country</th>\n",
       "      <th>Language</th>\n",
       "      <th>Type</th>\n",
       "      <th>Weights</th>\n",
       "    </tr>\n",
       "  </thead>\n",
       "  <tbody>\n",
       "    <tr>\n",
       "      <th>0</th>\n",
       "      <td>Abkhazia</td>\n",
       "      <td>Abkhaz</td>\n",
       "      <td>Official</td>\n",
       "      <td>30</td>\n",
       "    </tr>\n",
       "    <tr>\n",
       "      <th>1</th>\n",
       "      <td>Abkhazia</td>\n",
       "      <td>Russian</td>\n",
       "      <td>Official</td>\n",
       "      <td>30</td>\n",
       "    </tr>\n",
       "    <tr>\n",
       "      <th>2</th>\n",
       "      <td>Abkhazia</td>\n",
       "      <td>Georgian</td>\n",
       "      <td>Minority</td>\n",
       "      <td>20</td>\n",
       "    </tr>\n",
       "    <tr>\n",
       "      <th>3</th>\n",
       "      <td>Abkhazia</td>\n",
       "      <td>Abkhaz</td>\n",
       "      <td>National</td>\n",
       "      <td>15</td>\n",
       "    </tr>\n",
       "    <tr>\n",
       "      <th>4</th>\n",
       "      <td>Afghanistan</td>\n",
       "      <td>Pashto</td>\n",
       "      <td>Official</td>\n",
       "      <td>30</td>\n",
       "    </tr>\n",
       "    <tr>\n",
       "      <th>...</th>\n",
       "      <td>...</td>\n",
       "      <td>...</td>\n",
       "      <td>...</td>\n",
       "      <td>...</td>\n",
       "    </tr>\n",
       "    <tr>\n",
       "      <th>660</th>\n",
       "      <td>Zimbabwe</td>\n",
       "      <td>Sotho</td>\n",
       "      <td>Official</td>\n",
       "      <td>30</td>\n",
       "    </tr>\n",
       "    <tr>\n",
       "      <th>661</th>\n",
       "      <td>Zimbabwe</td>\n",
       "      <td>Tonga Language</td>\n",
       "      <td>Official</td>\n",
       "      <td>30</td>\n",
       "    </tr>\n",
       "    <tr>\n",
       "      <th>662</th>\n",
       "      <td>Zimbabwe</td>\n",
       "      <td>Tswana</td>\n",
       "      <td>Official</td>\n",
       "      <td>30</td>\n",
       "    </tr>\n",
       "    <tr>\n",
       "      <th>663</th>\n",
       "      <td>Zimbabwe</td>\n",
       "      <td>Venda</td>\n",
       "      <td>Official</td>\n",
       "      <td>30</td>\n",
       "    </tr>\n",
       "    <tr>\n",
       "      <th>664</th>\n",
       "      <td>Zimbabwe</td>\n",
       "      <td>Xhosa</td>\n",
       "      <td>Official</td>\n",
       "      <td>30</td>\n",
       "    </tr>\n",
       "  </tbody>\n",
       "</table>\n",
       "<p>665 rows × 4 columns</p>\n",
       "</div>"
      ],
      "text/plain": [
       "         Country        Language      Type  Weights\n",
       "0       Abkhazia          Abkhaz  Official       30\n",
       "1       Abkhazia         Russian  Official       30\n",
       "2       Abkhazia        Georgian  Minority       20\n",
       "3       Abkhazia          Abkhaz  National       15\n",
       "4    Afghanistan          Pashto  Official       30\n",
       "..           ...             ...       ...      ...\n",
       "660     Zimbabwe           Sotho  Official       30\n",
       "661     Zimbabwe  Tonga Language  Official       30\n",
       "662     Zimbabwe          Tswana  Official       30\n",
       "663     Zimbabwe           Venda  Official       30\n",
       "664     Zimbabwe           Xhosa  Official       30\n",
       "\n",
       "[665 rows x 4 columns]"
      ]
     },
     "execution_count": 8,
     "metadata": {},
     "output_type": "execute_result"
    }
   ],
   "source": [
    "langs_df[\"Weights\"] = langs_df.apply (type_weight,axis =1)\n",
    "#Rename languages with identical names to countries\n",
    "langs_df.loc[langs_df['Language'] == \"Kiribati\", 'Language'] = \"Kiribati Language\"\n",
    "langs_df.loc[langs_df['Language'] == \"Tonga\", 'Language'] = \"Tonga Language\"\n",
    "langs_df"
   ]
  },
  {
   "cell_type": "code",
   "execution_count": 16,
   "metadata": {},
   "outputs": [],
   "source": [
    "langs_df['Country'] = langs_df['Country'].map(clean_name)\n",
    "langs_df['Language'] = langs_df['Language'].map(clean_name)\n",
    "Countries = list(set(langs_df[\"Country\"]))\n",
    "Languages = list(set(langs_df[\"Language\"]))\n",
    "#Countries"
   ]
  },
  {
   "cell_type": "markdown",
   "metadata": {},
   "source": [
    "Create an empty list 'Edges' and populate it by going down the line of the dataframe and generating tuples containing the Country, Language and Weight. "
   ]
  },
  {
   "cell_type": "code",
   "execution_count": 14,
   "metadata": {},
   "outputs": [
    {
     "data": {
      "text/plain": [
       "665"
      ]
     },
     "execution_count": 14,
     "metadata": {},
     "output_type": "execute_result"
    }
   ],
   "source": [
    "Edges = []\n",
    "for i in range(0,len(langs_df)):\n",
    "    tup = (langs_df.loc[i]['Country'],langs_df.loc[i]['Language'],langs_df.loc[i]['Weights'])\n",
    "    Edges.append(tup)\n",
    "len(Edges)"
   ]
  },
  {
   "cell_type": "markdown",
   "metadata": {},
   "source": [
    "Attempt to create a bipartite network from this data. "
   ]
  },
  {
   "cell_type": "code",
   "execution_count": 11,
   "metadata": {},
   "outputs": [],
   "source": [
    "nCountr=len(Countries)\n",
    "nLangs=len(Languages)\n",
    "g=nx.generators.empty_graph(nCountr+nLangs)\n",
    "g.clear()\n",
    "g.name=\"World Languages by Country\"\n",
    "g.add_weighted_edges_from(Edges)"
   ]
  },
  {
   "cell_type": "code",
   "execution_count": 12,
   "metadata": {},
   "outputs": [
    {
     "data": {
      "text/plain": [
       "True"
      ]
     },
     "execution_count": 12,
     "metadata": {},
     "output_type": "execute_result"
    }
   ],
   "source": [
    "nx.is_bipartite(g)"
   ]
  }
 ],
 "metadata": {
  "kernelspec": {
   "display_name": "Python 3",
   "language": "python",
   "name": "python3"
  },
  "language_info": {
   "codemirror_mode": {
    "name": "ipython",
    "version": 3
   },
   "file_extension": ".py",
   "mimetype": "text/x-python",
   "name": "python",
   "nbconvert_exporter": "python",
   "pygments_lexer": "ipython3",
   "version": "3.7.4"
  }
 },
 "nbformat": 4,
 "nbformat_minor": 2
}
